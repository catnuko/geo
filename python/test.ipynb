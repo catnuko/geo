{
 "cells": [
  {
   "cell_type": "code",
   "execution_count": 7,
   "metadata": {},
   "outputs": [
    {
     "name": "stdout",
     "output_type": "stream",
     "text": [
      "[-0.6  0.2 -0. ]\n",
      "[-0.   1.5  1. ]\n",
      "[-0.5   0.75 -0.5 ]\n"
     ]
    }
   ],
   "source": [
    "import numpy as np\n",
    "a = np.array([1e0,1e0,1e0,1e0,0e0,1e0,-1e0,-1e0,2e0,-0e0,-0e0,-0e0,-1e0,-1e0,-2e0,-2e0]).reshape(4,4).T\n",
    "p0 = np.array([0.0, 0.5, 0.0,1 ])\n",
    "p1 = a @ p0\n",
    "print(p1[0:3] / p1[3])\n",
    "p0 = np.array([-0.5,-0.5, 0.0,1])\n",
    "p1 = a @ p0\n",
    "print(p1[0:3] / p1[3])\n",
    "p0 = np.array([0.5, -0.5, 0.0 ,1 ])\n",
    "p1 = a @ p0\n",
    "print(p1[0:3] / p1[3])\n"
   ]
  }
 ],
 "metadata": {
  "kernelspec": {
   "display_name": "base",
   "language": "python",
   "name": "python3"
  },
  "language_info": {
   "name": "python",
   "version": "3.11.5"
  }
 },
 "nbformat": 4,
 "nbformat_minor": 2
}
